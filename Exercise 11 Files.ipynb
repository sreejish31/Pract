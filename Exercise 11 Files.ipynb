{
 "cells": [
  {
   "cell_type": "code",
   "execution_count": 2,
   "id": "58e899da-d87e-498c-afd0-201adef6108e",
   "metadata": {},
   "outputs": [
    {
     "name": "stdout",
     "output_type": "stream",
     "text": [
      "Education is not just an intellectual endeavor; it is closely linked to the emotional condition of the learner. Numerous studies in the field of educational psychology have shown that emotions like curiosity, frustration, stress, and engagement significantly influence attention, motivation, and the ability to retain knowledge. Nevertheless, the majority of intelligent tutoring systems (ITS) still adhere to a “one-size-fits-all” model, which emphasizes the delivery of instructional material while neglecting to recognize and adapt to the learner’s emotional experiences. This absence of emotional awareness within these systems can lead to a lack of engagement, diminished motivation, and less effective learning results.\n"
     ]
    }
   ],
   "source": [
    "#Opening the existing file\n",
    "file=open(\"ai.txt\",\"r\",encoding=\"utf-8\")\n",
    "print(file.read())\n",
    "file.close()"
   ]
  },
  {
   "cell_type": "code",
   "execution_count": 4,
   "id": "71035ee5-146b-4e7c-b467-c62ae962eaff",
   "metadata": {},
   "outputs": [
    {
     "name": "stdout",
     "output_type": "stream",
     "text": [
      "File created and the content has written successfully\n"
     ]
    }
   ],
   "source": [
    "#create and write data to a file \n",
    "with open(\"sample.txt\", \"w\",encoding=\"utf-8\") as file:\n",
    "    file.write(\"Python is a general-purpose programming language used everywhere.\\n\")\n",
    "    file.write(\"From web apps to AI, automation to cybersecurity—making it one of the most powerful and in-demand skills today.\\n\")\n",
    "print(\"File created and the content has written successfully\")"
   ]
  },
  {
   "cell_type": "code",
   "execution_count": 5,
   "id": "cddcf129-a93d-49c8-8225-e10441f7d08a",
   "metadata": {},
   "outputs": [
    {
     "name": "stdout",
     "output_type": "stream",
     "text": [
      "File Content:\n",
      "\n",
      "Python is a general-purpose programming language used everywhere.\n",
      "From web apps to AI, automation to cybersecurity—making it one of the most powerful and in-demand skills today.\n",
      "\n"
     ]
    }
   ],
   "source": [
    "#read the data from the file \n",
    "with open(\"sample.txt\", \"r\",encoding=\"utf-8\") as file: \n",
    "    content=file.read() \n",
    "    print(\"File Content:\\n\") \n",
    "    print(content)"
   ]
  },
  {
   "cell_type": "code",
   "execution_count": null,
   "id": "1a965ce0-ce22-4d76-b09f-b9c27e6784d0",
   "metadata": {},
   "outputs": [],
   "source": []
  }
 ],
 "metadata": {
  "kernelspec": {
   "display_name": "Python 3 (ipykernel)",
   "language": "python",
   "name": "python3"
  },
  "language_info": {
   "codemirror_mode": {
    "name": "ipython",
    "version": 3
   },
   "file_extension": ".py",
   "mimetype": "text/x-python",
   "name": "python",
   "nbconvert_exporter": "python",
   "pygments_lexer": "ipython3",
   "version": "3.13.5"
  }
 },
 "nbformat": 4,
 "nbformat_minor": 5
}

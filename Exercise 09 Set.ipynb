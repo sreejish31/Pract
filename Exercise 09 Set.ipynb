{
 "cells": [
  {
   "cell_type": "code",
   "execution_count": 1,
   "id": "30b81223-57fe-4cda-92e8-d588d0b99895",
   "metadata": {},
   "outputs": [
    {
     "name": "stdout",
     "output_type": "stream",
     "text": [
      "{'Green', 'Black', 'Red', 'Yellow'}\n"
     ]
    }
   ],
   "source": [
    "#Creating a set\n",
    "color={\"Red\", \"Green\", \"Yellow\", \"Black\"}\n",
    "print(color)"
   ]
  },
  {
   "cell_type": "code",
   "execution_count": 2,
   "id": "04dcbf05-58b8-42a5-b16d-253e90169286",
   "metadata": {},
   "outputs": [
    {
     "name": "stdout",
     "output_type": "stream",
     "text": [
      "{1, 2, 3}\n"
     ]
    }
   ],
   "source": [
    "#Creating a set using set function\n",
    "n=set((2,1,3,2,1))\n",
    "print(n)"
   ]
  },
  {
   "cell_type": "code",
   "execution_count": 3,
   "id": "d0c1601a-264d-4c7c-9568-3ebc65f6e452",
   "metadata": {},
   "outputs": [
    {
     "name": "stdout",
     "output_type": "stream",
     "text": [
      "{1, 2, 3, 4, 5}\n",
      "{1, 2, 3, 4, 5}\n",
      "{3}\n",
      "{1, 2}\n",
      "{4, 5}\n",
      "{1, 2, 4, 5}\n",
      "{1, 2, 4, 5}\n"
     ]
    }
   ],
   "source": [
    "#Basic set operation\n",
    "a={1,2,3}\n",
    "b={3,4,5}\n",
    "print(a.union(b))\n",
    "print(b.union(a))\n",
    "print(a.intersection(b))\n",
    "print(a.difference(b))\n",
    "print(b.difference(a))\n",
    "print(a.symmetric_difference(b))\n",
    "print(b.symmetric_difference(a))"
   ]
  },
  {
   "cell_type": "code",
   "execution_count": 4,
   "id": "60194139-c738-4c9f-9c06-16b275d8d362",
   "metadata": {},
   "outputs": [
    {
     "name": "stdout",
     "output_type": "stream",
     "text": [
      "{'Linux', 'Unix', 'Windows', 'MacOS'}\n"
     ]
    }
   ],
   "source": [
    "#Adding a new element in a set\n",
    "os={\"Windows\", \"Linux\",\"MacOS\"}\n",
    "os.add(\"Unix\")\n",
    "print(os)"
   ]
  },
  {
   "cell_type": "code",
   "execution_count": 5,
   "id": "29f0dfe3-7461-4c4f-9ae6-22f5251a8cbf",
   "metadata": {},
   "outputs": [
    {
     "name": "stdout",
     "output_type": "stream",
     "text": [
      "Students who are chosen both subjects: set()\n",
      "Students who are chosen either maths or cs: {'Jish', 'Ilamathi', 'Swe', 'Sreejish', 'Swetha', 'Niha', 'Ilas', 'Nishanth', 'Niharika', 'Nish'}\n",
      "Students who are chosen maths alone: {'Nishanth', 'Ilamathi', 'Sreejish', 'Swetha', 'Niharika'}\n",
      "Students who are chosen CS alone: {'Jish', 'Ilas', 'Swe', 'Niha', 'Nish'}\n",
      "{'Swetha', 'Niharika', 'Rebecca', 'Ilamathi', 'Nishanth', 'Sreejish'}\n"
     ]
    }
   ],
   "source": [
    "#Subject chosen\n",
    "maths={\"Niharika\",\"Swetha\",\"Ilamathi\",\"Nishanth\",\"Sreejish\"}\n",
    "cs={\"Niha\",\"Swe\",\"Ilas\",\"Nish\",\"Jish\"}\n",
    "print(\"Students who are chosen both subjects:\",maths.intersection(cs))\n",
    "print(\"Students who are chosen either maths or cs:\",maths.symmetric_difference(cs))\n",
    "print(\"Students who are chosen maths alone:\",maths.difference(cs))\n",
    "print(\"Students who are chosen CS alone:\",cs.difference(maths))\n",
    "maths.add(\"Rebecca\")\n",
    "print(maths)"
   ]
  },
  {
   "cell_type": "code",
   "execution_count": 6,
   "id": "d3c79f73-a1b2-4597-b193-f458756fd570",
   "metadata": {},
   "outputs": [
    {
     "name": "stdout",
     "output_type": "stream",
     "text": [
      "{'Swetha', 'Niharika', 'Rebecca', 'Nishanth', 'Ilamathi', 'Sreejish', 'Maria'}\n"
     ]
    }
   ],
   "source": [
    "#Updating a set\n",
    "maths={\"Niharika\",\"Swetha\",\"Ilamathi\",\"Nishanth\",\"Sreejish\"}\n",
    "m={\"Maria\", \"Rebecca\"}\n",
    "maths.update(m)\n",
    "print(maths)"
   ]
  },
  {
   "cell_type": "code",
   "execution_count": 7,
   "id": "8d7d1d99-0e20-41e0-a3b0-e422f259f5c6",
   "metadata": {},
   "outputs": [
    {
     "name": "stdout",
     "output_type": "stream",
     "text": [
      "{'Srisandh', 'Swetha', 'Niharika', 'Rebecca', 'Nishanth', 'Ilamathi', 'Roshan', 'Sreejish'}\n"
     ]
    }
   ],
   "source": [
    "#Alternative method for Updating a set \n",
    "maths={\"Niharika\",\"Swetha\",\"Ilamathi\",\"Nishanth\",\"Sreejish\"}\n",
    "maths.update({\"Roshan\",\"Srisandh\",\"Rebecca\"})\n",
    "print(maths)"
   ]
  },
  {
   "cell_type": "code",
   "execution_count": 8,
   "id": "7d304766-c905-41fa-b8e2-00fe791438f0",
   "metadata": {},
   "outputs": [
    {
     "ename": "TypeError",
     "evalue": "unhashable type: 'set'",
     "output_type": "error",
     "traceback": [
      "\u001b[1;31m---------------------------------------------------------------------------\u001b[0m",
      "\u001b[1;31mTypeError\u001b[0m                                 Traceback (most recent call last)",
      "Cell \u001b[1;32mIn[8], line 3\u001b[0m\n\u001b[0;32m      1\u001b[0m \u001b[38;5;66;03m#Type error Due to unhashable set element\u001b[39;00m\n\u001b[0;32m      2\u001b[0m maths\u001b[38;5;241m=\u001b[39m{\u001b[38;5;124m\"\u001b[39m\u001b[38;5;124mNiharika\u001b[39m\u001b[38;5;124m\"\u001b[39m,\u001b[38;5;124m\"\u001b[39m\u001b[38;5;124mSwetha\u001b[39m\u001b[38;5;124m\"\u001b[39m,\u001b[38;5;124m\"\u001b[39m\u001b[38;5;124mIlamathi\u001b[39m\u001b[38;5;124m\"\u001b[39m,\u001b[38;5;124m\"\u001b[39m\u001b[38;5;124mNishanth\u001b[39m\u001b[38;5;124m\"\u001b[39m,\u001b[38;5;124m\"\u001b[39m\u001b[38;5;124mSreejish\u001b[39m\u001b[38;5;124m\"\u001b[39m}\n\u001b[1;32m----> 3\u001b[0m maths\u001b[38;5;241m.\u001b[39madd({\u001b[38;5;124m\"\u001b[39m\u001b[38;5;124mRavi\u001b[39m\u001b[38;5;124m\"\u001b[39m,\u001b[38;5;124m\"\u001b[39m\u001b[38;5;124mDeepak\u001b[39m\u001b[38;5;124m\"\u001b[39m,\u001b[38;5;124m\"\u001b[39m\u001b[38;5;124mDharshan\u001b[39m\u001b[38;5;124m\"\u001b[39m})\n\u001b[0;32m      4\u001b[0m \u001b[38;5;28mprint\u001b[39m(maths)\n",
      "\u001b[1;31mTypeError\u001b[0m: unhashable type: 'set'"
     ]
    }
   ],
   "source": [
    "#Type error Due to unhashable set element\n",
    "maths={\"Niharika\",\"Swetha\",\"Ilamathi\",\"Nishanth\",\"Sreejish\"}\n",
    "maths.add({\"Ravi\",\"Deepak\",\"Dharshan\"})\n",
    "print(maths)"
   ]
  },
  {
   "cell_type": "code",
   "execution_count": 10,
   "id": "437eb3cf-e3be-474e-a691-f06ac63c9a46",
   "metadata": {},
   "outputs": [
    {
     "name": "stdout",
     "output_type": "stream",
     "text": [
      "{'Swetha', 'Ilamathi', 'Nishanth', 'Sreejish'}\n"
     ]
    }
   ],
   "source": [
    "#Discard function\n",
    "maths={\"Niharika\",\"Swetha\",\"Ilamathi\",\"Nishanth\",\"Sreejish\"}\n",
    "maths.discard(\"Niharika\")\n",
    "print(maths)"
   ]
  },
  {
   "cell_type": "code",
   "execution_count": 11,
   "id": "f2d85c26-992f-4c86-8dc4-8d3c9170522f",
   "metadata": {},
   "outputs": [
    {
     "name": "stdout",
     "output_type": "stream",
     "text": [
      "{'Swetha', 'Niharika', 'Nishanth', 'Ilamathi'}\n"
     ]
    }
   ],
   "source": [
    "#Remove function\n",
    "maths={\"Niharika\",\"Swetha\",\"Ilamathi\",\"Nishanth\",\"Sreejish\"}\n",
    "maths.remove(\"Sreejish\")\n",
    "print(maths)"
   ]
  },
  {
   "cell_type": "code",
   "execution_count": 12,
   "id": "98334f51-b654-4277-bd77-53ab8f079675",
   "metadata": {},
   "outputs": [
    {
     "ename": "KeyError",
     "evalue": "'Swetha'",
     "output_type": "error",
     "traceback": [
      "\u001b[1;31m---------------------------------------------------------------------------\u001b[0m",
      "\u001b[1;31mKeyError\u001b[0m                                  Traceback (most recent call last)",
      "Cell \u001b[1;32mIn[12], line 4\u001b[0m\n\u001b[0;32m      2\u001b[0m maths\u001b[38;5;241m=\u001b[39m{\u001b[38;5;124m\"\u001b[39m\u001b[38;5;124mNiharika\u001b[39m\u001b[38;5;124m\"\u001b[39m,\u001b[38;5;124m\"\u001b[39m\u001b[38;5;124mSwetha\u001b[39m\u001b[38;5;124m\"\u001b[39m,\u001b[38;5;124m\"\u001b[39m\u001b[38;5;124mIlamathi\u001b[39m\u001b[38;5;124m\"\u001b[39m,\u001b[38;5;124m\"\u001b[39m\u001b[38;5;124mNishanth\u001b[39m\u001b[38;5;124m\"\u001b[39m,\u001b[38;5;124m\"\u001b[39m\u001b[38;5;124mSreejish\u001b[39m\u001b[38;5;124m\"\u001b[39m}\n\u001b[0;32m      3\u001b[0m maths\u001b[38;5;241m.\u001b[39mdiscard(\u001b[38;5;124m\"\u001b[39m\u001b[38;5;124mSwetha\u001b[39m\u001b[38;5;124m\"\u001b[39m)\n\u001b[1;32m----> 4\u001b[0m maths\u001b[38;5;241m.\u001b[39mremove(\u001b[38;5;124m\"\u001b[39m\u001b[38;5;124mSwetha\u001b[39m\u001b[38;5;124m\"\u001b[39m)\n\u001b[0;32m      5\u001b[0m \u001b[38;5;28mprint\u001b[39m(maths)\n",
      "\u001b[1;31mKeyError\u001b[0m: 'Swetha'"
     ]
    }
   ],
   "source": [
    "#Key error while removing non-existent element from set\n",
    "maths={\"Niharika\",\"Swetha\",\"Ilamathi\",\"Nishanth\",\"Sreejish\"}\n",
    "maths.discard(\"Swetha\")\n",
    "maths.remove(\"Swetha\")\n",
    "print(maths)"
   ]
  },
  {
   "cell_type": "code",
   "execution_count": 13,
   "id": "7d4be5e0-9842-46be-aafc-024c6a466191",
   "metadata": {},
   "outputs": [
    {
     "name": "stdout",
     "output_type": "stream",
     "text": [
      "{'a', 'c', 'e', 'n', 'd'}\n"
     ]
    }
   ],
   "source": [
    "#Avoiding duplicates\n",
    "s={'a','c','e','d'}\n",
    "s.update('and')\n",
    "print(s)"
   ]
  },
  {
   "cell_type": "code",
   "execution_count": 14,
   "id": "7a7aa5a2-a9dd-4656-88b8-72628d037a94",
   "metadata": {},
   "outputs": [
    {
     "name": "stdout",
     "output_type": "stream",
     "text": [
      "set()\n"
     ]
    }
   ],
   "source": [
    "#Clear function\n",
    "s={'a','c','e','d'}\n",
    "s.clear()\n",
    "print(s)"
   ]
  }
 ],
 "metadata": {
  "kernelspec": {
   "display_name": "Python 3 (ipykernel)",
   "language": "python",
   "name": "python3"
  },
  "language_info": {
   "codemirror_mode": {
    "name": "ipython",
    "version": 3
   },
   "file_extension": ".py",
   "mimetype": "text/x-python",
   "name": "python",
   "nbconvert_exporter": "python",
   "pygments_lexer": "ipython3",
   "version": "3.13.5"
  }
 },
 "nbformat": 4,
 "nbformat_minor": 5
}

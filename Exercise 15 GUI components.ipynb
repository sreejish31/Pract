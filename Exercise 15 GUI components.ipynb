{
 "cells": [
  {
   "cell_type": "code",
   "execution_count": null,
   "id": "cb64ba92-96c9-4d8c-b8c3-6e6ac7f870f8",
   "metadata": {},
   "outputs": [],
   "source": [
    "import tkinter as tk\n",
    "from tkinter import ttk\n",
    "from tkinter import scrolledtext\n",
    "win=tk.Tk() # creating an instance\n",
    "win.title(\"My GUI Page\")\n",
    "win.geometry(\"300x250\")\n",
    "label_name=tk.Label(win, text=\"Enter your Name : \")\n",
    "label_name.pack(pady=5)\n",
    "#entry widget (single line text box)\n",
    "entry_name=tk.Entry(win, width=30)\n",
    "entry_name.pack(pady=5)\n",
    "#lable for text (multiline text box)\n",
    "tk.Label(win,  text=\"enter your address : \").pack(pady=5)\n",
    "#text widget (multi line text box)\n",
    "text_address=tk.Text(win, height=5,width=30)\n",
    "text_address.pack(pady=5)\n",
    "# combo box widget\n",
    "tk.Label(win ,text=\"Choose the country\").pack(pady=5)\n",
    "country=ttk.Combobox(win, values=[\"USA\",\"India\",\"UK\",\"China\",\"Singapore\"],state=\"readonly\").pack(pady=5)#country.current(0)\n",
    "win.title(\"Radio Button and ScrolledText Example\")\n",
    "win.geometry(\"400x350\")\n",
    "# Label for radio buttons\n",
    "tk.Label(win, text=\"Select your gender:\").pack(pady=5)\n",
    "# Variable to hold selected radio button value\n",
    "gender_var = tk.StringVar(value=\"Male\") # default selection\n",
    "# Create radio buttons\n",
    "tk.Radiobutton(win, text=\"Male\", variable=gender_var,\n",
    "value=\"Male\").pack(anchor=\"w\")\n",
    "tk.Radiobutton(win, text=\"Female\", variable=gender_var,\n",
    "value=\"Female\").pack(anchor=\"w\")\n",
    "tk.Radiobutton(win, text=\"Other\", variable=gender_var,\n",
    "value=\"Other\").pack(anchor=\"w\")\n",
    "tk.Label(win, text=\"Write your comments:\").pack(pady=10)\n",
    "# Create scrolled text widget\n",
    "text_area = scrolledtext.ScrolledText(win, width=40, height=8,\n",
    "wrap=tk.WORD)\n",
    "text_area.pack()\n",
    "# Function to display selected data\n",
    "def submit():\n",
    "    gender = gender_var.get()\n",
    "    comments = text_area.get(\"1.0\", tk.END).strip()\n",
    "    print(f\"Gender: {gender}\\nComments: {comments}\")\n",
    "# Submit button\n",
    "tk.Button(win, text=\"Submit\", command=submit).pack(pady=15)\n",
    "win.mainloop()"
   ]
  }
 ],
 "metadata": {
  "kernelspec": {
   "display_name": "Python 3 (ipykernel)",
   "language": "python",
   "name": "python3"
  },
  "language_info": {
   "codemirror_mode": {
    "name": "ipython",
    "version": 3
   },
   "file_extension": ".py",
   "mimetype": "text/x-python",
   "name": "python",
   "nbconvert_exporter": "python",
   "pygments_lexer": "ipython3",
   "version": "3.13.5"
  }
 },
 "nbformat": 4,
 "nbformat_minor": 5
}

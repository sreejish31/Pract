{
 "cells": [
  {
   "cell_type": "code",
   "execution_count": 13,
   "id": "d2654cc1-45ae-479d-a6db-115fc210c23b",
   "metadata": {},
   "outputs": [
    {
     "name": "stdout",
     "output_type": "stream",
     "text": [
      "Model of the car: Morris Garage\n",
      "Price of the car: 2000000\n",
      "Battery capacity: 230\n"
     ]
    }
   ],
   "source": [
    "class Car:   \n",
    "    def __init__(self, model, price):\n",
    "        self.model = model\n",
    "        self.price = price    \n",
    "    def show(self):\n",
    "        print(f\"Model of the car: {self.model}\")\n",
    "        print(f\"Price of the car: {self.price}\")\n",
    "class ECar(Car):   # Inherit from Car\n",
    "    def __init__(self, model, price, capacity):\n",
    "        super().__init__(model, price)   # Call parent constructor\n",
    "        self.capacity = capacity\n",
    "    def display(self):\n",
    "        print(f\"Model of the car: {self.model}\")\n",
    "        print(f\"Price of the car: {self.price}\")\n",
    "        print(f\"Battery capacity: {self.capacity}\")\n",
    "a = ECar(\"Morris Garage\", 2000000, 230)\n",
    "a.display()"
   ]
  },
  {
   "cell_type": "code",
   "execution_count": 15,
   "id": "a96d4cf4-23ba-4682-bd17-c8cbb05ab040",
   "metadata": {},
   "outputs": [
    {
     "name": "stdout",
     "output_type": "stream",
     "text": [
      "Title of the book: Harry Potter\n",
      "Price of the book: 300\n",
      "Name of the author J.K. Rowling\n",
      "Copies: 2\n"
     ]
    }
   ],
   "source": [
    "class book:\n",
    "    def __init__(self, title, price):\n",
    "        self.title = title\n",
    "        self.price = price\n",
    "    def show(self):\n",
    "        print(f\"Title of the book: {self.title}\")\n",
    "        print(f\"Price of the book: {self.price}\")\n",
    "class author:\n",
    "    def __init__(self, name):\n",
    "        self.name = name\n",
    "    def showauthor(self):\n",
    "        print(\"Name of the author\",self.name)\n",
    "class library_book(book, author):\n",
    "    def __init__(self, title, price, name, copies):\n",
    "        book.__init__(self, title, price)   \n",
    "        author.__init__(self, name)        \n",
    "        self.copies = copies\n",
    "    def display(self):\n",
    "        self.show()         \n",
    "        self.showauthor()    \n",
    "        print(f\"Copies: {self.copies}\")\n",
    "a = library_book(\"Harry Potter\", 300, \"J.K. Rowling\", 2)\n",
    "a.display()"
   ]
  },
  {
   "cell_type": "code",
   "execution_count": 18,
   "id": "cf860db6-83da-4eab-9e57-c4bc1c6634a1",
   "metadata": {},
   "outputs": [
    {
     "name": "stdout",
     "output_type": "stream",
     "text": [
      "Area of square: 25\n",
      "Area of rectangle: 6\n",
      "Area of triangle: 12.0\n"
     ]
    }
   ],
   "source": [
    "class shape:\n",
    "    def area(self):\n",
    "        pass\n",
    "class square(shape):\n",
    "    def __init__(self, side):\n",
    "        self.side=side\n",
    "    def area(self):\n",
    "        return self.side*self.side\n",
    "class rectangle(shape):\n",
    "    def __init__(self,l,b):\n",
    "        self.l=l\n",
    "        self.b=b\n",
    "    def area(self):\n",
    "        return self.l*self.b\n",
    "class triangle(shape):\n",
    "    def __init__(self,base,h):\n",
    "        self.base=base\n",
    "        self.h=h\n",
    "    def area(self):\n",
    "        return 0.5*self.base*self.h\n",
    "a=square(5)\n",
    "print(\"Area of square:\", a.area())\n",
    "b=rectangle(2,3)\n",
    "print(\"Area of rectangle:\",b.area())\n",
    "c=triangle(4,6)\n",
    "print(\"Area of triangle:\", c.area())"
   ]
  }
 ],
 "metadata": {
  "kernelspec": {
   "display_name": "Python 3 (ipykernel)",
   "language": "python",
   "name": "python3"
  },
  "language_info": {
   "codemirror_mode": {
    "name": "ipython",
    "version": 3
   },
   "file_extension": ".py",
   "mimetype": "text/x-python",
   "name": "python",
   "nbconvert_exporter": "python",
   "pygments_lexer": "ipython3",
   "version": "3.13.5"
  }
 },
 "nbformat": 4,
 "nbformat_minor": 5
}

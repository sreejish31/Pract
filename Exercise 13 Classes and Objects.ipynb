{
 "cells": [
  {
   "cell_type": "code",
   "execution_count": 1,
   "id": "00b58184-47d0-4e27-a913-f6460590a414",
   "metadata": {},
   "outputs": [
    {
     "name": "stdout",
     "output_type": "stream",
     "text": [
      "Welcome\n"
     ]
    }
   ],
   "source": [
    "class student1:\n",
    "    def show(self):\n",
    "        print(\"Welcome\")\n",
    "d=student1()\n",
    "d.show()"
   ]
  },
  {
   "cell_type": "code",
   "execution_count": 3,
   "id": "554c9cae-5619-4c2e-bb3b-9c1472e462eb",
   "metadata": {},
   "outputs": [
    {
     "name": "stdout",
     "output_type": "stream",
     "text": [
      "10\n"
     ]
    }
   ],
   "source": [
    "class sum:\n",
    "    def add(self,a,b):\n",
    "        print(a+b)\n",
    "s=sum()\n",
    "s.add(6,4)"
   ]
  },
  {
   "cell_type": "code",
   "execution_count": 5,
   "id": "8008267d-3ff0-4ee3-bce1-4b3bf9290768",
   "metadata": {},
   "outputs": [
    {
     "name": "stdout",
     "output_type": "stream",
     "text": [
      "Name:  Niharika\n",
      "Grade:  O\n",
      "Name:  ILamathi\n",
      "Grade:  D+\n"
     ]
    }
   ],
   "source": [
    "class student:\n",
    "    def __init__(self,name,grade):\n",
    "        self.name=name\n",
    "        self.grade=grade\n",
    "    def display(self):\n",
    "        print(\"Name: \",self.name)\n",
    "        print(\"Grade: \",self.grade)\n",
    "s=student(\"Niharika\",\"O\")\n",
    "s.display()\n",
    "a=student(\"ILamathi\",\"D+\")\n",
    "a.display()"
   ]
  },
  {
   "cell_type": "code",
   "execution_count": 9,
   "id": "b3daa3fa-481b-44d8-aa33-c25b3268709d",
   "metadata": {},
   "outputs": [
    {
     "name": "stdout",
     "output_type": "stream",
     "text": [
      "Name:  Niharika\n",
      "Roll number:  135\n",
      "Marks:  [90, 92, 98]\n",
      "Average:  93.33333333333333\n",
      "Grade:  A\n"
     ]
    }
   ],
   "source": [
    "import builtins   # to make sure we always use the real sum()\n",
    "\n",
    "class student:\n",
    "    def __init__(self, name, rollno, marks):\n",
    "        self.name = name\n",
    "        self.rollno = rollno\n",
    "        self.marks = marks\n",
    "    def display(self):\n",
    "        print(\"Name: \", self.name)\n",
    "        print(\"Roll number: \", self.rollno)\n",
    "        print(\"Marks: \", self.marks)\n",
    "    def average(self):\n",
    "        if len(self.marks) == 0:\n",
    "            return 0   \n",
    "        return builtins.sum(self.marks) / len(self.marks)\n",
    "    def grade(self):\n",
    "        avg = self.average()\n",
    "        if avg >= 90:\n",
    "            return \"A\"\n",
    "        elif avg >= 75:\n",
    "            return \"B\"\n",
    "        elif avg >= 65:\n",
    "            return \"C\"\n",
    "        else:\n",
    "s = student(\"Niharika\", 135, [90, 92, 98])\n",
    "s.display()\n",
    "print(\"Average: \", s.average())\n",
    "print(\"Grade: \", s.grade())"
   ]
  },
  {
   "cell_type": "code",
   "execution_count": 12,
   "id": "7f507b1f-58c6-4de2-8f73-8b4da696158c",
   "metadata": {},
   "outputs": [
    {
     "name": "stdout",
     "output_type": "stream",
     "text": [
      "Deposit: 2000, New Balance: 3000\n",
      "Withdraw: 1000, New Balance: 2000\n",
      "Deposit: 4000, New Balance: 6000\n",
      "Withdraw: 2000, New Balance: 4000\n",
      "Deposit: 800, New Balance: 4800\n",
      "Withdraw: 4000, New Balance: 800\n"
     ]
    }
   ],
   "source": [
    "class bank_acc:\n",
    "    def __init__(self, acc_holder, balance=0):\n",
    "        self.acc_holder = acc_holder\n",
    "        self.balance = balance\n",
    "\n",
    "    def deposit(self, amount):\n",
    "        self.balance += amount\n",
    "        print(f\"Deposit: {amount}, New Balance: {self.balance}\")\n",
    "\n",
    "    def withdraw(self, amount):\n",
    "        if self.balance >= amount:  \n",
    "            self.balance -= amount  \n",
    "            print(f\"Withdraw: {amount}, New Balance: {self.balance}\")\n",
    "        else:\n",
    "            print(\"Insufficient Balance\")\n",
    "a = bank_acc(\"Niharika\", 1000)\n",
    "a.deposit(2000)\n",
    "a.withdraw(1000)\n",
    "a.deposit(4000)\n",
    "a.withdraw(2000)\n",
    "a.deposit(800)\n",
    "a.withdraw(4000)"
   ]
  },
  {
   "cell_type": "code",
   "execution_count": 16,
   "id": "c3ae96e3-3040-4624-ad47-e0b64d851e53",
   "metadata": {},
   "outputs": [
    {
     "name": "stdin",
     "output_type": "stream",
     "text": [
      "Enter the name:  Niharika\n"
     ]
    },
    {
     "name": "stdout",
     "output_type": "stream",
     "text": [
      "Account holder:  Niharika\n"
     ]
    },
    {
     "name": "stdin",
     "output_type": "stream",
     "text": [
      "Enter the amount to deposit:  3000\n"
     ]
    },
    {
     "name": "stdout",
     "output_type": "stream",
     "text": [
      "Deposit:  3000 New Balance:  5000\n"
     ]
    },
    {
     "name": "stdin",
     "output_type": "stream",
     "text": [
      "Enter the amount to withdraw:  1000\n"
     ]
    },
    {
     "name": "stdout",
     "output_type": "stream",
     "text": [
      "Withdraw: 1000, New Balance: 4000\n"
     ]
    }
   ],
   "source": [
    "class bank_acc:\n",
    "    def __init__(self,acc_holder,balance=0):\n",
    "        self.acc_holder=acc_holder\n",
    "        self.balance=balance\n",
    "    def deposit(self,amount):\n",
    "        self.balance+=amount\n",
    "        print(\"Deposit: \",amount, \"New Balance: \",self.balance)\n",
    "    def withdraw(self,amount):\n",
    "        if self.balance>=amount:\n",
    "            self.balance-=amount\n",
    "            print(f\"Withdraw: {amount}, New Balance: {self.balance}\")\n",
    "        else:\n",
    "            print(\"Insufficient Balance\")\n",
    "name=input(\"Enter the name: \")\n",
    "print(\"Account holder: \",name)\n",
    "account=bank_acc(name,2000)\n",
    "deposit=int(input(\"Enter the amount to deposit: \"))\n",
    "account.deposit(deposit)\n",
    "withdraw=int(input(\"Enter the amount to withdraw: \"))\n",
    "account.withdraw(withdraw)"
   ]
  }
 ],
 "metadata": {
  "kernelspec": {
   "display_name": "Python 3 (ipykernel)",
   "language": "python",
   "name": "python3"
  },
  "language_info": {
   "codemirror_mode": {
    "name": "ipython",
    "version": 3
   },
   "file_extension": ".py",
   "mimetype": "text/x-python",
   "name": "python",
   "nbconvert_exporter": "python",
   "pygments_lexer": "ipython3",
   "version": "3.13.5"
  }
 },
 "nbformat": 4,
 "nbformat_minor": 5
}

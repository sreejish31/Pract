{
 "cells": [
  {
   "cell_type": "code",
   "execution_count": 1,
   "id": "fe68eeb0-132e-4166-a739-e4b9cbbec1b5",
   "metadata": {},
   "outputs": [
    {
     "name": "stdout",
     "output_type": "stream",
     "text": [
      "(4, 5, 6, 7, 8, 9)\n"
     ]
    }
   ],
   "source": [
    "#Creating a tuple\n",
    "a=(4,5,6,7,8,9)\n",
    "print(a)"
   ]
  },
  {
   "cell_type": "code",
   "execution_count": 2,
   "id": "6844d880-f476-4b61-b5c6-52393e937a8f",
   "metadata": {},
   "outputs": [
    {
     "name": "stdout",
     "output_type": "stream",
     "text": [
      "(4, 9, 6, 7)\n"
     ]
    }
   ],
   "source": [
    "#To change element in tuple\n",
    "a=(4,5,6,7)\n",
    "a=a[:1]+(9,)+a[2:]\n",
    "print(a)"
   ]
  },
  {
   "cell_type": "code",
   "execution_count": 3,
   "id": "23835f49-fe9d-469a-8df0-0a49502a3af6",
   "metadata": {},
   "outputs": [
    {
     "name": "stdout",
     "output_type": "stream",
     "text": [
      "8 7\n"
     ]
    }
   ],
   "source": [
    "#Swapping of two numbers\n",
    "x=7\n",
    "y=8\n",
    "x,y=y,x\n",
    "print(x,y)"
   ]
  },
  {
   "cell_type": "code",
   "execution_count": 4,
   "id": "0a248ea7-d758-4fc3-a191-025533ce702d",
   "metadata": {},
   "outputs": [
    {
     "name": "stdout",
     "output_type": "stream",
     "text": [
      "[('Ram', 20), ('Karthik', 18), ('Arjun', 19)]\n",
      "[('Karthik', 18), ('Arjun', 19), ('Ram', 20)]\n",
      "[('Arjun', 19), ('Karthik', 18), ('Ram', 20)]\n"
     ]
    }
   ],
   "source": [
    "#List of tuples\n",
    "student=[(\"Ram\",20),(\"Karthik\",18),(\"Arjun\",19)]\n",
    "print(student)\n",
    "sort=sorted(student,key=lambda x:x[1])\n",
    "print(sort)\n",
    "sort1=sorted(student,key=lambda x:x[0])\n",
    "print(sort1)"
   ]
  },
  {
   "cell_type": "code",
   "execution_count": 5,
   "id": "668faf90-44d9-4ee7-abc0-4e67cea36477",
   "metadata": {},
   "outputs": [
    {
     "name": "stdout",
     "output_type": "stream",
     "text": [
      "(8, 7, 6, 4, 2)\n",
      "(2, 6, 8)\n",
      "(2, 4, 6, 7, 8)\n",
      "(2, 4, 6, 7, 8)\n",
      "(2, 6, 8)\n"
     ]
    }
   ],
   "source": [
    "#Tuple slicing\n",
    "a=(2,4,6,7,8)\n",
    "print(a[::-1])\n",
    "print(a[0::2])\n",
    "print(a[-5:])\n",
    "print(a[0:])\n",
    "print(a[::2])"
   ]
  },
  {
   "cell_type": "code",
   "execution_count": 6,
   "id": "77be9acd-9a26-416e-932b-a10b01aff6a6",
   "metadata": {},
   "outputs": [
    {
     "name": "stdout",
     "output_type": "stream",
     "text": [
      "3\n"
     ]
    }
   ],
   "source": [
    "#Count the no.of elements in the tuple\n",
    "t=(1,2,3,4,5,6,7,8,2,2)\n",
    "c=t.count(2)\n",
    "print(c)"
   ]
  },
  {
   "cell_type": "code",
   "execution_count": 7,
   "id": "e4fc329c-0b83-4b4f-85f3-3a7528973f49",
   "metadata": {},
   "outputs": [
    {
     "name": "stdout",
     "output_type": "stream",
     "text": [
      "Football\n",
      "Cricket\n",
      "Volleyball\n",
      "Throwball\n",
      "Football\n",
      "Cricket\n",
      "Volleyball\n",
      "Throwball\n"
     ]
    }
   ],
   "source": [
    "#For loop in tuple\n",
    "sports=(\"Football\",\"Cricket\",\"Volleyball\",\"Throwball\")\n",
    "for i in sports:\n",
    "    print(i)\n",
    "for i in range(len(sports)):\n",
    "    print(sports[i])"
   ]
  },
  {
   "cell_type": "code",
   "execution_count": 8,
   "id": "bd301c1d-60ed-48f1-a961-bdf8a0eca2d3",
   "metadata": {},
   "outputs": [
    {
     "name": "stdout",
     "output_type": "stream",
     "text": [
      "135 Niharika 18\n"
     ]
    }
   ],
   "source": [
    "#Tuple unpacking\n",
    "data=(135,\"Niharika\",18)\n",
    "rollno,name,age=data\n",
    "print(rollno,name,age)"
   ]
  },
  {
   "cell_type": "code",
   "execution_count": 10,
   "id": "6ca55ef2-04ca-48c3-93e2-f009afae77ed",
   "metadata": {},
   "outputs": [
    {
     "name": "stdout",
     "output_type": "stream",
     "text": [
      "[1, 2, 3] [4, 5, 6]\n",
      "[4, 5, 6] (1, 2, 3)\n"
     ]
    }
   ],
   "source": [
    "#List and Tuple Datatype transformation\n",
    "l=[1,2,3]\n",
    "t=[4,5,6]\n",
    "print(l,t)\n",
    "print(list(t),tuple(l))"
   ]
  }
 ],
 "metadata": {
  "kernelspec": {
   "display_name": "Python 3 (ipykernel)",
   "language": "python",
   "name": "python3"
  },
  "language_info": {
   "codemirror_mode": {
    "name": "ipython",
    "version": 3
   },
   "file_extension": ".py",
   "mimetype": "text/x-python",
   "name": "python",
   "nbconvert_exporter": "python",
   "pygments_lexer": "ipython3",
   "version": "3.13.5"
  }
 },
 "nbformat": 4,
 "nbformat_minor": 5
}

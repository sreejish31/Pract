{
 "cells": [
  {
   "cell_type": "code",
   "execution_count": 1,
   "id": "be208a4f-46c6-4522-827d-61b11fe93dd6",
   "metadata": {},
   "outputs": [
    {
     "name": "stdin",
     "output_type": "stream",
     "text": [
      "Enter the number:  -2\n"
     ]
    },
    {
     "name": "stdout",
     "output_type": "stream",
     "text": [
      "The number cannot divided by zero\n",
      "All blocks are executed\n"
     ]
    }
   ],
   "source": [
    "#Zero division error\n",
    "try:\n",
    "    a=int(input(\"Enter the number: \"))\n",
    "    b=a/0\n",
    "    print(b)\n",
    "except ZeroDivisionError:\n",
    "    print(\"The number cannot divided by zero\")\n",
    "except ValueError:\n",
    "    print(\"The given input is not valid\")\n",
    "except Exception as e:\n",
    "    print(f\"Common exception {e}\")\n",
    "finally:\n",
    "    print(\"All blocks are executed\")"
   ]
  },
  {
   "cell_type": "code",
   "execution_count": 2,
   "id": "14711ecc-a75e-4a4f-9e96-0d3018f96e5c",
   "metadata": {},
   "outputs": [
    {
     "name": "stdin",
     "output_type": "stream",
     "text": [
      "Enter the file name: mmm.txt\n"
     ]
    },
    {
     "name": "stdout",
     "output_type": "stream",
     "text": [
      "The text file is not found\n",
      "All blocks are executed\n"
     ]
    }
   ],
   "source": [
    "#File not found exception\n",
    "try:\n",
    "    a=input(\"Enter the file name:\")\n",
    "    with open(a, \"r\") as file:\n",
    "        data=file.read() \n",
    "        print(\"File Content: \\n\") \n",
    "        print(data)\n",
    "except FileNotFoundError:\n",
    "    print(\"The text file is not found\")\n",
    "except Exception as e:\n",
    "    print(f\"Common exception {e}\")\n",
    "finally:\n",
    "    print(\"All blocks are executed\")"
   ]
  },
  {
   "cell_type": "code",
   "execution_count": 3,
   "id": "297ae69e-23d0-4492-813c-4ad5e4072481",
   "metadata": {},
   "outputs": [
    {
     "name": "stdin",
     "output_type": "stream",
     "text": [
      "Enter the age: 15\n"
     ]
    },
    {
     "name": "stdout",
     "output_type": "stream",
     "text": [
      "Age is valid\n"
     ]
    }
   ],
   "source": [
    "#Age Validation\n",
    "def checkage(age):\n",
    "    if age<0:\n",
    "        raise ValueError(\"Age cannot be negative\")\n",
    "    else:\n",
    "        print(\"Age is valid\")\n",
    "try:\n",
    "    age=int(input(\"Enter the age:\"))\n",
    "    checkage(age)\n",
    "except ValueError as e:\n",
    "    print(\"Error:\",e)"
   ]
  },
  {
   "cell_type": "code",
   "execution_count": 5,
   "id": "bbe2bcbd-cfd3-46d2-8acc-051c3b9e1d96",
   "metadata": {},
   "outputs": [
    {
     "name": "stdin",
     "output_type": "stream",
     "text": [
      "Enter the index value: 5\n"
     ]
    },
    {
     "name": "stdout",
     "output_type": "stream",
     "text": [
      "The given value is out of the index\n"
     ]
    }
   ],
   "source": [
    "#Index error\n",
    "try:\n",
    "    a=[2,3,4,5]\n",
    "    b=int(input(\"Enter the index value:\"))\n",
    "    print(a[b])\n",
    "except IndexError:\n",
    "    print(\"The given value is out of the index\")"
   ]
  },
  {
   "cell_type": "code",
   "execution_count": 6,
   "id": "50f09215-75ce-4686-9d30-8d478975eb16",
   "metadata": {},
   "outputs": [
    {
     "name": "stdin",
     "output_type": "stream",
     "text": [
      "Enter the number: a\n"
     ]
    },
    {
     "name": "stdout",
     "output_type": "stream",
     "text": [
      "Invalid value\n"
     ]
    }
   ],
   "source": [
    "#value error\n",
    "try:\n",
    "    a=int(input(\"Enter the number:\"))\n",
    "    print(a)\n",
    "except ValueError:\n",
    "    print(\"Invalid value\")"
   ]
  },
  {
   "cell_type": "code",
   "execution_count": 7,
   "id": "250e9edc-d903-459f-a3c2-2e9e6756ca3b",
   "metadata": {},
   "outputs": [
    {
     "name": "stdin",
     "output_type": "stream",
     "text": [
      "Enter the key: rollno\n"
     ]
    },
    {
     "name": "stdout",
     "output_type": "stream",
     "text": [
      "The given key value is not present.\n"
     ]
    }
   ],
   "source": [
    "#Key error\n",
    "try:\n",
    "    d={\"name\": \"ashifa\", \"age\":18}\n",
    "    e=input(\"Enter the key:\")\n",
    "    print(d[e])\n",
    "except KeyError:\n",
    "    print(\"The given key value is not present.\")"
   ]
  }
 ],
 "metadata": {
  "kernelspec": {
   "display_name": "Python 3 (ipykernel)",
   "language": "python",
   "name": "python3"
  },
  "language_info": {
   "codemirror_mode": {
    "name": "ipython",
    "version": 3
   },
   "file_extension": ".py",
   "mimetype": "text/x-python",
   "name": "python",
   "nbconvert_exporter": "python",
   "pygments_lexer": "ipython3",
   "version": "3.13.5"
  }
 },
 "nbformat": 4,
 "nbformat_minor": 5
}
